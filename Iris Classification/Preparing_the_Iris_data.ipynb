{
 "cells": [
  {
   "cell_type": "markdown",
   "metadata": {
    "colab_type": "text",
    "id": "qvF_TwtmVIm2"
   },
   "source": [
    "<h2>Installing kaggle and loading the csv file in a pandas dataframe:</h2>"
   ]
  },
  {
   "cell_type": "code",
   "execution_count": null,
   "metadata": {
    "colab": {
     "base_uri": "https://localhost:8080/",
     "height": 208
    },
    "colab_type": "code",
    "executionInfo": {
     "elapsed": 5438,
     "status": "ok",
     "timestamp": 1594941517937,
     "user": {
      "displayName": "rupamita sarkar",
      "photoUrl": "https://lh3.googleusercontent.com/a-/AOh14GiI0GQ4H09s6AMWPtGxiZQMiuRA57RL_lnvXan7og=s64",
      "userId": "04874083243324037920"
     },
     "user_tz": -330
    },
    "id": "wm-OkJ1bEYf7",
    "outputId": "ab06a583-2d3a-4439-9a49-c8c6c70758be"
   },
   "outputs": [
    {
     "name": "stdout",
     "output_type": "stream",
     "text": [
      "\u001b[33mDEPRECATION: Python 2.7 reached the end of its life on January 1st, 2020. Please upgrade your Python as Python 2.7 is no longer maintained. A future version of pip will drop support for Python 2.7. More details about Python 2 support in pip, can be found at https://pip.pypa.io/en/latest/development/release-process/#python-2-support\u001b[0m\n",
      "Defaulting to user installation because normal site-packages is not writeable\n",
      "Collecting kaggle\n",
      "  Downloading kaggle-1.5.6.tar.gz (58 kB)\n",
      "\u001b[K     |████████████████████████████████| 58 kB 192 kB/s eta 0:00:01\n",
      "\u001b[?25hCollecting urllib3<1.25,>=1.21.1\n",
      "  Downloading urllib3-1.24.3-py2.py3-none-any.whl (118 kB)\n",
      "\u001b[K     |████████████████████████████████| 118 kB 493 kB/s eta 0:00:01\n",
      "\u001b[?25hRequirement already satisfied: six>=1.10 in /home/foxy/.local/lib/python2.7/site-packages (from kaggle) (1.14.0)\n",
      "Requirement already satisfied: certifi in /home/foxy/.local/lib/python2.7/site-packages (from kaggle) (2019.11.28)\n",
      "Requirement already satisfied: python-dateutil in /home/foxy/.local/lib/python2.7/site-packages (from kaggle) (2.8.1)\n",
      "Requirement already satisfied: requests in /home/foxy/.local/lib/python2.7/site-packages (from kaggle) (2.23.0)\n",
      "Collecting tqdm\n",
      "  Downloading tqdm-4.48.0-py2.py3-none-any.whl (67 kB)\n",
      "\u001b[K     |████████████████████████████████| 67 kB 332 kB/s eta 0:00:01\n",
      "\u001b[?25hCollecting python-slugify\n",
      "  Downloading python-slugify-4.0.1.tar.gz (11 kB)\n",
      "Requirement already satisfied: idna<3,>=2.5 in /usr/lib/python2.7/dist-packages (from requests->kaggle) (2.6)\n",
      "Requirement already satisfied: chardet<4,>=3.0.2 in /usr/lib/python2.7/dist-packages (from requests->kaggle) (3.0.4)\n",
      "Collecting text-unidecode>=1.3\n",
      "  Downloading text_unidecode-1.3-py2.py3-none-any.whl (78 kB)\n",
      "\u001b[K     |████████████████████████████████| 78 kB 1.3 MB/s eta 0:00:01\n",
      "\u001b[31mERROR: tensorboard 2.1.0 requires wheel; python_version < \"3\", which is not installed.\u001b[0m\n",
      "\u001b[?25hInstalling collected packages: urllib3, tqdm, text-unidecode, python-slugify, kaggle\n",
      "  Attempting uninstall: urllib3\n",
      "    Found existing installation: urllib3 1.25.8\n",
      "    Uninstalling urllib3-1.25.8:\n",
      "      Successfully uninstalled urllib3-1.25.8\n",
      "    Running setup.py install for python-slugify ... \u001b[?25l"
     ]
    }
   ],
   "source": [
    "!pip install kaggle"
   ]
  },
  {
   "cell_type": "markdown",
   "metadata": {
    "colab_type": "text",
    "id": "q45AQPRfW-cc"
   },
   "source": [
    "<font size=3>Create kaggle as a hidden dir under the current dir, /content</font>"
   ]
  },
  {
   "cell_type": "code",
   "execution_count": null,
   "metadata": {
    "colab": {},
    "colab_type": "code",
    "id": "0R6VRepkEgtd"
   },
   "outputs": [],
   "source": [
    "!mkdir .kaggle"
   ]
  },
  {
   "cell_type": "markdown",
   "metadata": {
    "colab_type": "text",
    "id": "yqe-YNV8XQ5d"
   },
   "source": [
    "<font size=3>Print all contents (including hidden ones) of /content</font>"
   ]
  },
  {
   "cell_type": "code",
   "execution_count": null,
   "metadata": {
    "colab": {
     "base_uri": "https://localhost:8080/",
     "height": 34
    },
    "colab_type": "code",
    "executionInfo": {
     "elapsed": 10911,
     "status": "ok",
     "timestamp": 1594941523430,
     "user": {
      "displayName": "rupamita sarkar",
      "photoUrl": "https://lh3.googleusercontent.com/a-/AOh14GiI0GQ4H09s6AMWPtGxiZQMiuRA57RL_lnvXan7og=s64",
      "userId": "04874083243324037920"
     },
     "user_tz": -330
    },
    "id": "7O36r34bTiON",
    "outputId": "a17f7ef6-fc3c-481e-dd25-511f8693ca64"
   },
   "outputs": [],
   "source": [
    "!ls -a /content"
   ]
  },
  {
   "cell_type": "markdown",
   "metadata": {
    "colab_type": "text",
    "id": "WKMdZVVQX6px"
   },
   "source": [
    "<font size=3>In kaggle, go to your account page. Scroll down to API and click on \"Create new API token\". Download the kaggle.json file and copy the content of the file. <br/>\n",
    "In colab import json and create a json object called token and paste the copied content and assign it to token. Open /content/.kaggle/kaggle.json in write mode and dump the token in the kaggle.json file.</font>"
   ]
  },
  {
   "cell_type": "code",
   "execution_count": null,
   "metadata": {
    "colab": {},
    "colab_type": "code",
    "id": "sEhXBXs5GOCI"
   },
   "outputs": [],
   "source": [
    "import json\n",
    "token = {\"username\":\"rupamitasarkar\",\"key\":\"34fac33e3b4f0e4e66dd5d06a59a46eb\"}\n",
    "with open('/content/.kaggle/kaggle.json', 'w') as file:\n",
    "    json.dump(token, file)"
   ]
  },
  {
   "cell_type": "markdown",
   "metadata": {
    "colab_type": "text",
    "id": "OyawdInRZdsv"
   },
   "source": [
    "<font size=3>Move the kaggle dir to /root.</font>"
   ]
  },
  {
   "cell_type": "code",
   "execution_count": null,
   "metadata": {
    "colab": {
     "base_uri": "https://localhost:8080/",
     "height": 34
    },
    "colab_type": "code",
    "executionInfo": {
     "elapsed": 13542,
     "status": "ok",
     "timestamp": 1594941526070,
     "user": {
      "displayName": "rupamita sarkar",
      "photoUrl": "https://lh3.googleusercontent.com/a-/AOh14GiI0GQ4H09s6AMWPtGxiZQMiuRA57RL_lnvXan7og=s64",
      "userId": "04874083243324037920"
     },
     "user_tz": -330
    },
    "id": "e0MHN6HwUJlp",
    "outputId": "6acad20a-1962-4673-9dba-083f6a1ab982"
   },
   "outputs": [],
   "source": [
    "!mv .kaggle /root/"
   ]
  },
  {
   "cell_type": "code",
   "execution_count": null,
   "metadata": {
    "colab": {
     "base_uri": "https://localhost:8080/",
     "height": 34
    },
    "colab_type": "code",
    "executionInfo": {
     "elapsed": 16853,
     "status": "ok",
     "timestamp": 1594941529392,
     "user": {
      "displayName": "rupamita sarkar",
      "photoUrl": "https://lh3.googleusercontent.com/a-/AOh14GiI0GQ4H09s6AMWPtGxiZQMiuRA57RL_lnvXan7og=s64",
      "userId": "04874083243324037920"
     },
     "user_tz": -330
    },
    "id": "GTzdzPJJUmhn",
    "outputId": "f33832c5-17ea-4555-8aaa-ccaa21b071bf"
   },
   "outputs": [],
   "source": [
    "!ls -a /content"
   ]
  },
  {
   "cell_type": "markdown",
   "metadata": {
    "colab_type": "text",
    "id": "djghs5tkZl7X"
   },
   "source": [
    "<font size=3>From kaggle copy the API command to download the dataset and paste it here. -p /content sets the path for the downloaded file under /content dir.</font>"
   ]
  },
  {
   "cell_type": "code",
   "execution_count": null,
   "metadata": {
    "colab": {
     "base_uri": "https://localhost:8080/",
     "height": 52
    },
    "colab_type": "code",
    "executionInfo": {
     "elapsed": 19750,
     "status": "ok",
     "timestamp": 1594941532301,
     "user": {
      "displayName": "rupamita sarkar",
      "photoUrl": "https://lh3.googleusercontent.com/a-/AOh14GiI0GQ4H09s6AMWPtGxiZQMiuRA57RL_lnvXan7og=s64",
      "userId": "04874083243324037920"
     },
     "user_tz": -330
    },
    "id": "a_a5NKP4OMzr",
    "outputId": "cb152859-23c1-4198-a36d-22998924e0d6"
   },
   "outputs": [],
   "source": [
    "!kaggle datasets download -d uciml/iris -p /content"
   ]
  },
  {
   "cell_type": "markdown",
   "metadata": {
    "colab_type": "text",
    "id": "sZE9o1k8aEYL"
   },
   "source": [
    "<font size=3>Unzip all zipped files under current folder.</font>"
   ]
  },
  {
   "cell_type": "code",
   "execution_count": null,
   "metadata": {
    "colab": {
     "base_uri": "https://localhost:8080/",
     "height": 84
    },
    "colab_type": "code",
    "id": "2uVzIp1cOZD8",
    "outputId": "717ebd3a-5f40-49d3-abb1-84f8a77ac24e"
   },
   "outputs": [],
   "source": [
    "!unzip *.zip"
   ]
  },
  {
   "cell_type": "markdown",
   "metadata": {},
   "source": [
    "<font size=2>The above section will be necessary if we are using colab</font>"
   ]
  },
  {
   "cell_type": "markdown",
   "metadata": {
    "colab_type": "text",
    "id": "XgXFuOeVamOD"
   },
   "source": [
    "<font size=2>Import pandas and read in the iris.csv file into a pandas dataframe called df.</font>"
   ]
  },
  {
   "cell_type": "code",
   "execution_count": 5,
   "metadata": {
    "colab": {},
    "colab_type": "code",
    "id": "R_Bwy0SJg6DO"
   },
   "outputs": [],
   "source": [
    "import pandas as pd\n",
    "import numpy as np"
   ]
  },
  {
   "cell_type": "code",
   "execution_count": 6,
   "metadata": {
    "colab": {},
    "colab_type": "code",
    "id": "V_klHTxQ8XZg"
   },
   "outputs": [],
   "source": [
    "df = pd.read_csv('Iris.csv')"
   ]
  },
  {
   "cell_type": "markdown",
   "metadata": {
    "colab_type": "text",
    "id": "4goSUoN9K5sZ"
   },
   "source": [
    "<br/>\n",
    "----------------------------------------------------------------------------------------------------------------------------------------------\n",
    "<br/>\n",
    "<h2>Check The Data</h2>"
   ]
  },
  {
   "cell_type": "code",
   "execution_count": null,
   "metadata": {
    "colab": {},
    "colab_type": "code",
    "id": "-og51s307HJE"
   },
   "outputs": [],
   "source": [
    "df.shape"
   ]
  },
  {
   "cell_type": "code",
   "execution_count": null,
   "metadata": {
    "colab": {},
    "colab_type": "code",
    "id": "JBoPntPV7kWZ"
   },
   "outputs": [],
   "source": [
    "df.head()"
   ]
  },
  {
   "cell_type": "code",
   "execution_count": null,
   "metadata": {
    "colab": {},
    "colab_type": "code",
    "id": "JQIiLXga77f_"
   },
   "outputs": [],
   "source": [
    "df.isnull().any().any() # check for any null values in the dataset"
   ]
  },
  {
   "cell_type": "code",
   "execution_count": null,
   "metadata": {
    "colab": {},
    "colab_type": "code",
    "id": "QXZLuSXR8oxi"
   },
   "outputs": [],
   "source": [
    "df.info() #show datatype of each column"
   ]
  },
  {
   "cell_type": "markdown",
   "metadata": {
    "colab_type": "text",
    "id": "SpS2KrrS_U9x"
   },
   "source": [
    "<font size=3>features is the list of column names. These are the input features.</font>"
   ]
  },
  {
   "cell_type": "code",
   "execution_count": 7,
   "metadata": {
    "colab": {},
    "colab_type": "code",
    "id": "nHUwnLe1_LNB"
   },
   "outputs": [
    {
     "name": "stdout",
     "output_type": "stream",
     "text": [
      "['Id', 'SepalLengthCm', 'SepalWidthCm', 'PetalLengthCm', 'PetalWidthCm']\n"
     ]
    }
   ],
   "source": [
    "features = list(df.columns)\n",
    "features.pop(-1) #pop the last column name which is the column of labels\n",
    "print(features)"
   ]
  },
  {
   "cell_type": "markdown",
   "metadata": {
    "colab_type": "text",
    "id": "48LdK7GTarYx"
   },
   "source": [
    "<font size=3>The code in the cell below could be replaced with:<br/>\n",
    "group_names = df['Species'].unique().tolist()<br/>\n",
    "group_names</font>"
   ]
  },
  {
   "cell_type": "code",
   "execution_count": 8,
   "metadata": {
    "colab": {},
    "colab_type": "code",
    "id": "uNdlaInwJxac"
   },
   "outputs": [
    {
     "name": "stdout",
     "output_type": "stream",
     "text": [
      "['Iris-setosa', 'Iris-versicolor', 'Iris-virginica']\n"
     ]
    }
   ],
   "source": [
    "labels = df.loc[:, \"Species\"] #store all elements of the species column into the list labels\n",
    "labels = list(set(labels)) #remove duplicates so only the main label names \n",
    "print(labels) #print the labels"
   ]
  },
  {
   "cell_type": "markdown",
   "metadata": {
    "colab_type": "text",
    "id": "HJNDEZqVLbG-"
   },
   "source": [
    "<font size=3>Perform feature scaling: </font>"
   ]
  },
  {
   "cell_type": "code",
   "execution_count": null,
   "metadata": {
    "colab": {},
    "colab_type": "code",
    "id": "Q01NfyQIUqaN"
   },
   "outputs": [],
   "source": [
    "df.head()"
   ]
  },
  {
   "cell_type": "code",
   "execution_count": null,
   "metadata": {
    "colab": {},
    "colab_type": "code",
    "id": "KYfU6wtCLrck"
   },
   "outputs": [],
   "source": [
    "#for s in features:\n",
    "#    df[s] = df[s] / ( df[s].max() - df[s].min() )\n",
    "#df.head()"
   ]
  },
  {
   "cell_type": "markdown",
   "metadata": {
    "colab_type": "text",
    "id": "txYYQUi8q1xu"
   },
   "source": [
    "<font size=3>shuffle the dataset.</font>"
   ]
  },
  {
   "cell_type": "code",
   "execution_count": 9,
   "metadata": {
    "colab": {},
    "colab_type": "code",
    "id": "AfrX9QrukSf5"
   },
   "outputs": [
    {
     "data": {
      "text/html": [
       "<div>\n",
       "<style scoped>\n",
       "    .dataframe tbody tr th:only-of-type {\n",
       "        vertical-align: middle;\n",
       "    }\n",
       "\n",
       "    .dataframe tbody tr th {\n",
       "        vertical-align: top;\n",
       "    }\n",
       "\n",
       "    .dataframe thead th {\n",
       "        text-align: right;\n",
       "    }\n",
       "</style>\n",
       "<table border=\"1\" class=\"dataframe\">\n",
       "  <thead>\n",
       "    <tr style=\"text-align: right;\">\n",
       "      <th></th>\n",
       "      <th>Id</th>\n",
       "      <th>SepalLengthCm</th>\n",
       "      <th>SepalWidthCm</th>\n",
       "      <th>PetalLengthCm</th>\n",
       "      <th>PetalWidthCm</th>\n",
       "      <th>Species</th>\n",
       "    </tr>\n",
       "  </thead>\n",
       "  <tbody>\n",
       "    <tr>\n",
       "      <th>115</th>\n",
       "      <td>116</td>\n",
       "      <td>6.4</td>\n",
       "      <td>3.2</td>\n",
       "      <td>5.3</td>\n",
       "      <td>2.3</td>\n",
       "      <td>Iris-virginica</td>\n",
       "    </tr>\n",
       "    <tr>\n",
       "      <th>141</th>\n",
       "      <td>142</td>\n",
       "      <td>6.9</td>\n",
       "      <td>3.1</td>\n",
       "      <td>5.1</td>\n",
       "      <td>2.3</td>\n",
       "      <td>Iris-virginica</td>\n",
       "    </tr>\n",
       "    <tr>\n",
       "      <th>2</th>\n",
       "      <td>3</td>\n",
       "      <td>4.7</td>\n",
       "      <td>3.2</td>\n",
       "      <td>1.3</td>\n",
       "      <td>0.2</td>\n",
       "      <td>Iris-setosa</td>\n",
       "    </tr>\n",
       "    <tr>\n",
       "      <th>32</th>\n",
       "      <td>33</td>\n",
       "      <td>5.2</td>\n",
       "      <td>4.1</td>\n",
       "      <td>1.5</td>\n",
       "      <td>0.1</td>\n",
       "      <td>Iris-setosa</td>\n",
       "    </tr>\n",
       "    <tr>\n",
       "      <th>148</th>\n",
       "      <td>149</td>\n",
       "      <td>6.2</td>\n",
       "      <td>3.4</td>\n",
       "      <td>5.4</td>\n",
       "      <td>2.3</td>\n",
       "      <td>Iris-virginica</td>\n",
       "    </tr>\n",
       "  </tbody>\n",
       "</table>\n",
       "</div>"
      ],
      "text/plain": [
       "      Id  SepalLengthCm  SepalWidthCm  PetalLengthCm  PetalWidthCm  \\\n",
       "115  116            6.4           3.2            5.3           2.3   \n",
       "141  142            6.9           3.1            5.1           2.3   \n",
       "2      3            4.7           3.2            1.3           0.2   \n",
       "32    33            5.2           4.1            1.5           0.1   \n",
       "148  149            6.2           3.4            5.4           2.3   \n",
       "\n",
       "            Species  \n",
       "115  Iris-virginica  \n",
       "141  Iris-virginica  \n",
       "2       Iris-setosa  \n",
       "32      Iris-setosa  \n",
       "148  Iris-virginica  "
      ]
     },
     "execution_count": 9,
     "metadata": {},
     "output_type": "execute_result"
    }
   ],
   "source": [
    "df1 = df #keep a backup\n",
    "df = df.sample(frac=1) #randomly samples the rows  and returns all rows\n",
    "df.head()"
   ]
  },
  {
   "cell_type": "markdown",
   "metadata": {
    "colab_type": "text",
    "id": "UqWrtTTcuRFc"
   },
   "source": [
    "<font size=3>Extract Y (species) in form of one hot  encoding.</font>"
   ]
  },
  {
   "cell_type": "code",
   "execution_count": 10,
   "metadata": {
    "colab": {},
    "colab_type": "code",
    "id": "Cah-lpdjuofn"
   },
   "outputs": [
    {
     "data": {
      "text/html": [
       "<div>\n",
       "<style scoped>\n",
       "    .dataframe tbody tr th:only-of-type {\n",
       "        vertical-align: middle;\n",
       "    }\n",
       "\n",
       "    .dataframe tbody tr th {\n",
       "        vertical-align: top;\n",
       "    }\n",
       "\n",
       "    .dataframe thead th {\n",
       "        text-align: right;\n",
       "    }\n",
       "</style>\n",
       "<table border=\"1\" class=\"dataframe\">\n",
       "  <thead>\n",
       "    <tr style=\"text-align: right;\">\n",
       "      <th></th>\n",
       "      <th>Iris-setosa</th>\n",
       "      <th>Iris-versicolor</th>\n",
       "      <th>Iris-virginica</th>\n",
       "    </tr>\n",
       "  </thead>\n",
       "  <tbody>\n",
       "    <tr>\n",
       "      <th>115</th>\n",
       "      <td>0</td>\n",
       "      <td>0</td>\n",
       "      <td>1</td>\n",
       "    </tr>\n",
       "    <tr>\n",
       "      <th>141</th>\n",
       "      <td>0</td>\n",
       "      <td>0</td>\n",
       "      <td>1</td>\n",
       "    </tr>\n",
       "    <tr>\n",
       "      <th>2</th>\n",
       "      <td>1</td>\n",
       "      <td>0</td>\n",
       "      <td>0</td>\n",
       "    </tr>\n",
       "    <tr>\n",
       "      <th>32</th>\n",
       "      <td>1</td>\n",
       "      <td>0</td>\n",
       "      <td>0</td>\n",
       "    </tr>\n",
       "    <tr>\n",
       "      <th>148</th>\n",
       "      <td>0</td>\n",
       "      <td>0</td>\n",
       "      <td>1</td>\n",
       "    </tr>\n",
       "  </tbody>\n",
       "</table>\n",
       "</div>"
      ],
      "text/plain": [
       "     Iris-setosa  Iris-versicolor  Iris-virginica\n",
       "115            0                0               1\n",
       "141            0                0               1\n",
       "2              1                0               0\n",
       "32             1                0               0\n",
       "148            0                0               1"
      ]
     },
     "execution_count": 10,
     "metadata": {},
     "output_type": "execute_result"
    }
   ],
   "source": [
    "species_oneHot = pd.get_dummies(df['Species'])\n",
    "species_oneHot.head()"
   ]
  },
  {
   "cell_type": "markdown",
   "metadata": {
    "colab_type": "text",
    "id": "0I9PHhxZdXnA"
   },
   "source": [
    "<font size=3>Split the one-hot encoded dataframe into train and test output sets.</font>"
   ]
  },
  {
   "cell_type": "code",
   "execution_count": 11,
   "metadata": {
    "colab": {},
    "colab_type": "code",
    "id": "WImMkJIUc7Ai"
   },
   "outputs": [
    {
     "name": "stdout",
     "output_type": "stream",
     "text": [
      "     Iris-setosa  Iris-versicolor  Iris-virginica\n",
      "115            0                0               1\n",
      "141            0                0               1\n",
      "2              1                0               0\n",
      "32             1                0               0\n",
      "148            0                0               1\n",
      "     Iris-setosa  Iris-versicolor  Iris-virginica\n",
      "23             1                0               0\n",
      "129            0                0               1\n",
      "57             0                1               0\n",
      "22             1                0               0\n",
      "108            0                0               1\n"
     ]
    }
   ],
   "source": [
    "train_index = int(0.8*df.shape[0]) #index for dividing the data into train and test sets with a 70:30 ratio\n",
    "Y_train = species_oneHot.iloc[0:(train_index - 1)] #first 80% goes to train labels\n",
    "Y_test = species_oneHot.iloc[train_index: ] #last 20% goes to test labels\n",
    "\n",
    "print(Y_train.head())\n",
    "print(Y_test.head())"
   ]
  },
  {
   "cell_type": "code",
   "execution_count": 12,
   "metadata": {
    "colab": {},
    "colab_type": "code",
    "id": "Ov0_xqX817lJ"
   },
   "outputs": [
    {
     "data": {
      "text/html": [
       "<div>\n",
       "<style scoped>\n",
       "    .dataframe tbody tr th:only-of-type {\n",
       "        vertical-align: middle;\n",
       "    }\n",
       "\n",
       "    .dataframe tbody tr th {\n",
       "        vertical-align: top;\n",
       "    }\n",
       "\n",
       "    .dataframe thead th {\n",
       "        text-align: right;\n",
       "    }\n",
       "</style>\n",
       "<table border=\"1\" class=\"dataframe\">\n",
       "  <thead>\n",
       "    <tr style=\"text-align: right;\">\n",
       "      <th></th>\n",
       "      <th>Id</th>\n",
       "      <th>SepalLengthCm</th>\n",
       "      <th>SepalWidthCm</th>\n",
       "      <th>PetalLengthCm</th>\n",
       "      <th>PetalWidthCm</th>\n",
       "    </tr>\n",
       "  </thead>\n",
       "  <tbody>\n",
       "    <tr>\n",
       "      <th>115</th>\n",
       "      <td>116</td>\n",
       "      <td>6.4</td>\n",
       "      <td>3.2</td>\n",
       "      <td>5.3</td>\n",
       "      <td>2.3</td>\n",
       "    </tr>\n",
       "    <tr>\n",
       "      <th>141</th>\n",
       "      <td>142</td>\n",
       "      <td>6.9</td>\n",
       "      <td>3.1</td>\n",
       "      <td>5.1</td>\n",
       "      <td>2.3</td>\n",
       "    </tr>\n",
       "    <tr>\n",
       "      <th>2</th>\n",
       "      <td>3</td>\n",
       "      <td>4.7</td>\n",
       "      <td>3.2</td>\n",
       "      <td>1.3</td>\n",
       "      <td>0.2</td>\n",
       "    </tr>\n",
       "    <tr>\n",
       "      <th>32</th>\n",
       "      <td>33</td>\n",
       "      <td>5.2</td>\n",
       "      <td>4.1</td>\n",
       "      <td>1.5</td>\n",
       "      <td>0.1</td>\n",
       "    </tr>\n",
       "    <tr>\n",
       "      <th>148</th>\n",
       "      <td>149</td>\n",
       "      <td>6.2</td>\n",
       "      <td>3.4</td>\n",
       "      <td>5.4</td>\n",
       "      <td>2.3</td>\n",
       "    </tr>\n",
       "  </tbody>\n",
       "</table>\n",
       "</div>"
      ],
      "text/plain": [
       "      Id  SepalLengthCm  SepalWidthCm  PetalLengthCm  PetalWidthCm\n",
       "115  116            6.4           3.2            5.3           2.3\n",
       "141  142            6.9           3.1            5.1           2.3\n",
       "2      3            4.7           3.2            1.3           0.2\n",
       "32    33            5.2           4.1            1.5           0.1\n",
       "148  149            6.2           3.4            5.4           2.3"
      ]
     },
     "execution_count": 12,
     "metadata": {},
     "output_type": "execute_result"
    }
   ],
   "source": [
    "df = df.drop('Species', axis =1) #drop the  labels and keep only the inputs\n",
    "df.head()"
   ]
  },
  {
   "cell_type": "code",
   "execution_count": 13,
   "metadata": {
    "colab": {},
    "colab_type": "code",
    "id": "lB3F_tkQ3urA"
   },
   "outputs": [
    {
     "data": {
      "text/html": [
       "<div>\n",
       "<style scoped>\n",
       "    .dataframe tbody tr th:only-of-type {\n",
       "        vertical-align: middle;\n",
       "    }\n",
       "\n",
       "    .dataframe tbody tr th {\n",
       "        vertical-align: top;\n",
       "    }\n",
       "\n",
       "    .dataframe thead th {\n",
       "        text-align: right;\n",
       "    }\n",
       "</style>\n",
       "<table border=\"1\" class=\"dataframe\">\n",
       "  <thead>\n",
       "    <tr style=\"text-align: right;\">\n",
       "      <th></th>\n",
       "      <th>SepalLengthCm</th>\n",
       "      <th>SepalWidthCm</th>\n",
       "      <th>PetalLengthCm</th>\n",
       "      <th>PetalWidthCm</th>\n",
       "    </tr>\n",
       "  </thead>\n",
       "  <tbody>\n",
       "    <tr>\n",
       "      <th>115</th>\n",
       "      <td>6.4</td>\n",
       "      <td>3.2</td>\n",
       "      <td>5.3</td>\n",
       "      <td>2.3</td>\n",
       "    </tr>\n",
       "    <tr>\n",
       "      <th>141</th>\n",
       "      <td>6.9</td>\n",
       "      <td>3.1</td>\n",
       "      <td>5.1</td>\n",
       "      <td>2.3</td>\n",
       "    </tr>\n",
       "    <tr>\n",
       "      <th>2</th>\n",
       "      <td>4.7</td>\n",
       "      <td>3.2</td>\n",
       "      <td>1.3</td>\n",
       "      <td>0.2</td>\n",
       "    </tr>\n",
       "    <tr>\n",
       "      <th>32</th>\n",
       "      <td>5.2</td>\n",
       "      <td>4.1</td>\n",
       "      <td>1.5</td>\n",
       "      <td>0.1</td>\n",
       "    </tr>\n",
       "    <tr>\n",
       "      <th>148</th>\n",
       "      <td>6.2</td>\n",
       "      <td>3.4</td>\n",
       "      <td>5.4</td>\n",
       "      <td>2.3</td>\n",
       "    </tr>\n",
       "  </tbody>\n",
       "</table>\n",
       "</div>"
      ],
      "text/plain": [
       "     SepalLengthCm  SepalWidthCm  PetalLengthCm  PetalWidthCm\n",
       "115            6.4           3.2            5.3           2.3\n",
       "141            6.9           3.1            5.1           2.3\n",
       "2              4.7           3.2            1.3           0.2\n",
       "32             5.2           4.1            1.5           0.1\n",
       "148            6.2           3.4            5.4           2.3"
      ]
     },
     "execution_count": 13,
     "metadata": {},
     "output_type": "execute_result"
    }
   ],
   "source": [
    "df = df.drop('Id', axis = 1) #also drop the Id column from the dataframe\n",
    "df.head()"
   ]
  },
  {
   "cell_type": "markdown",
   "metadata": {
    "colab_type": "text",
    "id": "GK0X1Xoe1vMZ"
   },
   "source": [
    "<font size=3>Do the 80:20 train and test set split on the input data.</font>"
   ]
  },
  {
   "cell_type": "code",
   "execution_count": 14,
   "metadata": {
    "colab": {},
    "colab_type": "code",
    "id": "tANxur46zDFB"
   },
   "outputs": [
    {
     "name": "stdout",
     "output_type": "stream",
     "text": [
      "     SepalLengthCm  SepalWidthCm  PetalLengthCm  PetalWidthCm\n",
      "115            6.4           3.2            5.3           2.3\n",
      "141            6.9           3.1            5.1           2.3\n",
      "2              4.7           3.2            1.3           0.2\n",
      "32             5.2           4.1            1.5           0.1\n",
      "148            6.2           3.4            5.4           2.3\n",
      "     SepalLengthCm  SepalWidthCm  PetalLengthCm  PetalWidthCm\n",
      "23             5.1           3.3            1.7           0.5\n",
      "129            7.2           3.0            5.8           1.6\n",
      "57             4.9           2.4            3.3           1.0\n",
      "22             4.6           3.6            1.0           0.2\n",
      "108            6.7           2.5            5.8           1.8\n"
     ]
    }
   ],
   "source": [
    "X_train = df.iloc[0:(train_index - 1)] #first 80% of the data goes to training set\n",
    "X_test = df.iloc[train_index: ] #last 20% of the data goes to test set\n",
    "\n",
    "print(X_train.head())\n",
    "print(X_test.head())"
   ]
  },
  {
   "cell_type": "markdown",
   "metadata": {},
   "source": [
    "<font size=3>Store X_train, X_test, Y_train and Y_test in separate csv files.</font>"
   ]
  },
  {
   "cell_type": "code",
   "execution_count": 15,
   "metadata": {},
   "outputs": [],
   "source": [
    "X_train.to_csv('X_train.csv', index=False)\n",
    "X_test.to_csv('X_test.csv', index=False)\n",
    "Y_train.to_csv('Y_train.csv', index=False)\n",
    "Y_test.to_csv('Y_test.csv', index=False)"
   ]
  },
  {
   "cell_type": "code",
   "execution_count": null,
   "metadata": {},
   "outputs": [],
   "source": []
  }
 ],
 "metadata": {
  "colab": {
   "authorship_tag": "ABX9TyPsIEK2RTihhPdXn2Ym4m3A",
   "collapsed_sections": [],
   "name": "NNfromScratch.ipynb",
   "provenance": []
  },
  "kernelspec": {
   "display_name": "Python 3",
   "language": "python",
   "name": "python3"
  },
  "language_info": {
   "codemirror_mode": {
    "name": "ipython",
    "version": 3
   },
   "file_extension": ".py",
   "mimetype": "text/x-python",
   "name": "python",
   "nbconvert_exporter": "python",
   "pygments_lexer": "ipython3",
   "version": "3.6.9"
  }
 },
 "nbformat": 4,
 "nbformat_minor": 1
}
