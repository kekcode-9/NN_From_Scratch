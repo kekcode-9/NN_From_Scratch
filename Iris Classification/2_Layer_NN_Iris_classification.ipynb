{
 "cells": [
  {
   "cell_type": "markdown",
   "metadata": {},
   "source": [
    "<font size=2>Make the necessary impports:</font>"
   ]
  },
  {
   "cell_type": "code",
   "execution_count": 1,
   "metadata": {},
   "outputs": [],
   "source": [
    "import pandas as pd\n",
    "import numpy as np\n",
    "import matplotlib.pyplot as plt\n",
    "from Forward_Prop_utils_1 import *\n",
    "from Back_Prop_utils_1 import *"
   ]
  },
  {
   "cell_type": "code",
   "execution_count": 2,
   "metadata": {},
   "outputs": [
    {
     "name": "stdout",
     "output_type": "stream",
     "text": [
      "X_train.shape:  (4, 119)\n",
      "X_test.shape:  (4, 30)\n",
      "Y_train.shape:  (3, 119)\n",
      "Y_test.shape:  (3, 30)\n"
     ]
    }
   ],
   "source": [
    "#read the csv files, convert them to numpy arrays and transpose them\n",
    "X_train = pd.read_csv('X_train.csv').to_numpy().T\n",
    "X_test = pd.read_csv('X_test.csv').to_numpy().T\n",
    "Y_train = pd.read_csv('Y_train.csv').to_numpy().T\n",
    "Y_test = pd.read_csv('Y_test.csv').to_numpy().T\n",
    "print(\"X_train.shape: \", X_train.shape)\n",
    "print(\"X_test.shape: \", X_test.shape)\n",
    "print(\"Y_train.shape: \", Y_train.shape)\n",
    "print(\"Y_test.shape: \", Y_test.shape)"
   ]
  },
  {
   "cell_type": "markdown",
   "metadata": {},
   "source": [
    "<font size=3>Structure:</font>"
   ]
  },
  {
   "cell_type": "markdown",
   "metadata": {},
   "source": [
    "<font size=2>Our NN model will have 2 layers. The 0<sup>th</sup> layer will be the input layer. There will be three hidden layers and the final/output layer will be the 2<sup>nd</sup> layer.<br/>\n",
    "Layer[ 1 ] , the single hidden layer will have 5 hidden units.<br/>\n",
    "Layer[ 2 ] or the final layer will have c units, where c = 3 is the number of classes.<br/><br/>\n",
    "    Layer[ 0 ] --> X_train of shape (n<sup>[ 0 ]</sup>, m) where n<sup>[ 0 ]</sup> = 4 is the no. of features. m = 104, #examples.<br/><br/>\n",
    "    Layer[ 1 ] --> <ul><li>input: X_train.\n",
    "    <li>parameters: W<sup>[ 1 ]</sup> of shape ( n<sup>[ 1 ]</sup>, n<sup>[ 0 ]</sup> ) i.e., (5, 4) and b<sup>[ 1 ]</sup> of shape( n<sup>[ 1 ]</sup>, 1 ) i.e., (5, 1).\n",
    "    <li>Z<sup>[ 1 ]</sup> = W<sup>[ 1 ]</sup> . X + b<sup>[ 1 ]</sup> of shape ( n<sup>[ 1 ]</sup>, m ) i.e., (5, 104).\n",
    "    <li>a<sup>[ 1 ]</sup> = relu( Z<sup>[ 1 ]</sup> ) of shape ( n<sup>[ 1 ]</sup>, m ) i.e., (5, 104).</ul>\n",
    "    Layer[ 2 ] --><ul><li>input: a<sup>[ 1 ]</sup>.\n",
    "    <li>parameters: W<sup>[ 2 ]</sup> of shape ( n<sup>[ 2 ]</sup>, n<sup>[ 1 ]</sup> ) i.e., (3, 5) and b<sup>[ 2 ]</sup> of shape( n<sup>[ 2 ]</sup>, 1 ) i.e., (3, 1).\n",
    "    <li>Z<sup>[ 2 ]</sup> = W<sup>[ 2 ]</sup> . a<sup>[ 1 ]</sup> + b<sup>[ 2 ]</sup> of shape ( n<sup>[ 2 ]</sup>, m ) i.e., (3, 104).\n",
    "    <li>a<sup>[ 2 ]</sup> = softmax( Z<sup>[ 2 ]</sup> ) of shape ( n<sup>[ 2 ]</sup>, m ) i.e., (3, 104).\n",
    "    </ul>\n",
    "</font>"
   ]
  },
  {
   "cell_type": "code",
   "execution_count": 9,
   "metadata": {},
   "outputs": [
    {
     "name": "stdout",
     "output_type": "stream",
     "text": [
      "shape of W1:  (5, 4) \n",
      "\n",
      "shape of b1:  (5, 1) \n",
      "\n",
      "shape of W2:  (3, 5) \n",
      "\n",
      "shape of b2:  (3, 1) \n",
      "\n"
     ]
    }
   ],
   "source": [
    "layer_dims = [4, 5, 3]\n",
    "\n",
    "#initializing parameters\n",
    "parameters = initialize_parameters(layer_dims)\n",
    "\n",
    "print(\"shape of W1: \",parameters[\"W1\"].shape,\"\\n\")\n",
    "print(\"shape of b1: \",parameters[\"b1\"].shape,\"\\n\")\n",
    "print(\"shape of W2: \",parameters[\"W2\"].shape,\"\\n\")\n",
    "print(\"shape of b2: \",parameters[\"b2\"].shape,\"\\n\")"
   ]
  },
  {
   "cell_type": "code",
   "execution_count": 7,
   "metadata": {},
   "outputs": [],
   "source": [
    "#gradient descent\n",
    "def  gradient_descent(parameters, X, Y, alpha, epochs, print_cost=False):\n",
    "    costs = []\n",
    "    accs = []\n",
    "    for i in range(epochs):\n",
    "        AL, caches = L_layer_Forward_Prop(X, Y, parameters)\n",
    "        cost = compute_cost(AL, Y)\n",
    "        acc = accuracy(AL, Y)\n",
    "        grads = L_Layer_Back_Prop(AL, Y, caches)\n",
    "        parameters = update_parameters(parameters, grads, alpha)\n",
    "        \n",
    "        # Print the cost every 100 training example\n",
    "        if print_cost and i % 10 == 0:\n",
    "            print (\"Cost after iteration %i: %f\" %(i, cost))\n",
    "        if i % 10 == 0:\n",
    "            costs.append(cost)\n",
    "            accs.append(acc)\n",
    "    \n",
    "    print(\"Cost after iteration\",epochs,\":\",cost)\n",
    "    costs.append(cost)\n",
    "    acc = accuracy(AL, Y)\n",
    "    accs.append(acc)\n",
    "    print(\"accuracy: \", acc)\n",
    "    \n",
    "    # plot the cost\n",
    "    plt.plot(np.squeeze(costs))\n",
    "    plt.ylabel('cost')\n",
    "    plt.xlabel('iterations (per tens)')\n",
    "    plt.title(\"Learning rate =\" + str(alpha))\n",
    "    plt.show()\n",
    "    \n",
    "    # plot the accuracy\n",
    "    plt.plot(np.squeeze(accs))\n",
    "    plt.ylabel('accuracy')\n",
    "    plt.xlabel('iterations (per tens)')\n",
    "    plt.title(\"Learning rate =\" + str(alpha))\n",
    "    plt.show()\n",
    "    \n",
    "    return parameters"
   ]
  },
  {
   "cell_type": "code",
   "execution_count": 10,
   "metadata": {},
   "outputs": [
    {
     "name": "stdout",
     "output_type": "stream",
     "text": [
      "Cost after iteration 1000 : 0.09592949792568485\n",
      "accuracy:  99.15966386554622\n"
     ]
    },
    {
     "data": {
      "image/png": "[encoded data removed]",
      "text/plain": [
       "<Figure size 432x288 with 1 Axes>"
      ]
     },
     "metadata": {
      "needs_background": "light"
     },
     "output_type": "display_data"
    },
    {
     "data": {
      "image/png": "[encoded data removed]",
      "text/plain": [
       "<Figure size 432x288 with 1 Axes>"
      ]
     },
     "metadata": {
      "needs_background": "light"
     },
     "output_type": "display_data"
    }
   ],
   "source": [
    "parameters = gradient_descent(parameters, X_train, Y_train, alpha=0.03, epochs = 1000, print_cost = False)"
   ]
  },
  {
   "cell_type": "code",
   "execution_count": 11,
   "metadata": {},
   "outputs": [
    {
     "name": "stdout",
     "output_type": "stream",
     "text": [
      "cost: 0.11584053533227788\n",
      "accuracy:  96.66666666666667\n"
     ]
    }
   ],
   "source": [
    "#evaluate on test data\n",
    "AL, caches = L_layer_Forward_Prop(X_test, Y_test, parameters)\n",
    "cost = compute_cost(AL, Y_test)\n",
    "acc = accuracy(AL, Y_test)\n",
    "print(\"cost:\",cost)\n",
    "print(\"accuracy: \", acc)"
   ]
  },
  {
   "cell_type": "code",
   "execution_count": null,
   "metadata": {},
   "outputs": [],
   "source": []
  }
 ],
 "metadata": {
  "kernelspec": {
   "display_name": "Python 3",
   "language": "python",
   "name": "python3"
  },
  "language_info": {
   "codemirror_mode": {
    "name": "ipython",
    "version": 3
   },
   "file_extension": ".py",
   "mimetype": "text/x-python",
   "name": "python",
   "nbconvert_exporter": "python",
   "pygments_lexer": "ipython3",
   "version": "3.6.9"
  }
 },
 "nbformat": 4,
 "nbformat_minor": 2
}
