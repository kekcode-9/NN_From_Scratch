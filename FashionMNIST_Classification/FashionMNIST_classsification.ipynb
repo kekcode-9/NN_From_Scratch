{
 "cells": [
  {
   "cell_type": "code",
   "execution_count": 2,
   "metadata": {},
   "outputs": [],
   "source": [
    "import tensorflow as tf\n",
    "import numpy as np\n",
    "import matplotlib.pyplot as plt"
   ]
  },
  {
   "cell_type": "code",
   "execution_count": 3,
   "metadata": {},
   "outputs": [],
   "source": [
    "from Forward_Prop_utils_1 import *\n",
    "from Back_Prop_utils_1 import *"
   ]
  },
  {
   "cell_type": "markdown",
   "metadata": {},
   "source": [
    "<h2>Loading and preparing the Fashion MNIST data:</h2>"
   ]
  },
  {
   "cell_type": "code",
   "execution_count": 4,
   "metadata": {},
   "outputs": [],
   "source": [
    "data = tf.keras.datasets.fashion_mnist\n",
    "#load the train and test datasets\n",
    "(train_images, train_labels), (test_images, test_labels) = data.load_data()\n",
    "#rescale the  values so they lie between 0 and 1\n",
    "train_images = train_images/255.\n",
    "test_images = test_images/255."
   ]
  },
  {
   "cell_type": "code",
   "execution_count": 5,
   "metadata": {},
   "outputs": [
    {
     "name": "stdout",
     "output_type": "stream",
     "text": [
      "train_images.shape:  (60000, 28, 28)\n",
      "test_images.shape:  (10000, 28, 28)\n",
      "train_labels.shape:  (60000,)\n",
      "test_labels.shape:  (10000,)\n",
      "[9 0 0 3 0]\n"
     ]
    }
   ],
   "source": [
    "print(\"train_images.shape: \", train_images.shape)\n",
    "print(\"test_images.shape: \", test_images.shape)\n",
    "print(\"train_labels.shape: \", train_labels.shape)\n",
    "print(\"test_labels.shape: \", test_labels.shape)\n",
    "print(train_labels[0:5])"
   ]
  },
  {
   "cell_type": "code",
   "execution_count": 6,
   "metadata": {},
   "outputs": [
    {
     "name": "stdout",
     "output_type": "stream",
     "text": [
      "(10, 60000)\n",
      "\n",
      " [[0. 1. 1. 0. 1.]\n",
      " [0. 0. 0. 0. 0.]\n",
      " [0. 0. 0. 0. 0.]\n",
      " [0. 0. 0. 1. 0.]\n",
      " [0. 0. 0. 0. 0.]\n",
      " [0. 0. 0. 0. 0.]\n",
      " [0. 0. 0. 0. 0.]\n",
      " [0. 0. 0. 0. 0.]\n",
      " [0. 0. 0. 0. 0.]\n",
      " [1. 0. 0. 0. 0.]]\n"
     ]
    }
   ],
   "source": [
    "train_labels_one_hot = np.zeros((10, train_labels.shape[0])) #zero matrix of shape (10, 60000)\n",
    "\n",
    "for i in range(train_labels.shape[0]):\n",
    "    train_labels_one_hot[train_labels[i], i] = 1\n",
    "    \n",
    "print(train_labels_one_hot.shape)\n",
    "print(\"\\n\", train_labels_one_hot[:, 0:5])\n",
    "\n",
    "test_labels_one_hot = np.zeros((10, test_labels.shape[0])) #zero matrix of shape (10, 10000)\n",
    "\n",
    "for i in range(test_labels.shape[0]):\n",
    "    test_labels_one_hot[test_labels[i], i] = 1"
   ]
  },
  {
   "cell_type": "code",
   "execution_count": 7,
   "metadata": {},
   "outputs": [
    {
     "name": "stdout",
     "output_type": "stream",
     "text": [
      "train_x_flatten.shape:  (784, 60000)\n",
      "test_x_flatten.shape:  (784, 10000)\n"
     ]
    }
   ],
   "source": [
    "m = train_images.shape[0]\n",
    "num_px = train_images.shape[1] #size of an image is (num_px, num_px)\n",
    "#flatten the train and test samples\n",
    "train_x_flatten = train_images.reshape(train_images.shape[0], -1).T   # The \"-1\" makes reshape flatten the remaining dimensions\n",
    "test_x_flatten = test_images.reshape(test_images.shape[0], -1).T\n",
    "\n",
    "print(\"train_x_flatten.shape: \", train_x_flatten.shape)\n",
    "print(\"test_x_flatten.shape: \", test_x_flatten.shape)"
   ]
  },
  {
   "cell_type": "markdown",
   "metadata": {},
   "source": [
    "<h2>Training:</h2>"
   ]
  },
  {
   "cell_type": "code",
   "execution_count": 25,
   "metadata": {},
   "outputs": [],
   "source": [
    "featureCount = train_x_flatten.shape[0]\n",
    "layer_dims = [ featureCount, 20, 10 ]"
   ]
  },
  {
   "cell_type": "code",
   "execution_count": 26,
   "metadata": {},
   "outputs": [],
   "source": [
    "#weight initialization\n",
    "parameters = initialize_parameters(layer_dims)"
   ]
  },
  {
   "cell_type": "code",
   "execution_count": 27,
   "metadata": {},
   "outputs": [],
   "source": [
    "#gradient descent\n",
    "def  gradient_descent(parameters, X, Y, alpha, epochs, print_cost=False):\n",
    "    costs = []\n",
    "    accs = []\n",
    "    for i in range(epochs):\n",
    "        AL, caches = L_layer_Forward_Prop(X, Y, parameters)\n",
    "        cost = compute_cost(AL, Y)\n",
    "        acc = accuracy(AL, Y)\n",
    "        grads = L_Layer_Back_Prop(AL, Y, caches)\n",
    "        parameters = update_parameters(parameters, grads, alpha)\n",
    "        \n",
    "#        if(i==0 or i==500 or i==(epochs-1)):\n",
    "#            print(\"\\nepoch \", i, \": \",parameters['W1'][:, 0:3])\n",
    "        \n",
    "        # Print the cost every 100 training example\n",
    "        if print_cost and i % 10 == 0:\n",
    "            print (\"Cost after iteration %i: %f\" %(i, cost))\n",
    "        if i % 10 == 0:\n",
    "            costs.append(cost)\n",
    "            accs.append(acc)\n",
    "    \n",
    "    print(\"Cost after iteration\",epochs,\":\",cost)\n",
    "    costs.append(cost)\n",
    "    acc = accuracy(AL, Y)\n",
    "    accs.append(acc)\n",
    "    print(\"accuracy: \", acc)\n",
    "    \n",
    "    # plot the cost\n",
    "    plt.plot(np.squeeze(costs))\n",
    "    plt.ylabel('cost')\n",
    "    plt.xlabel('iterations (per tens)')\n",
    "    plt.title(\"Learning rate =\" + str(alpha))\n",
    "    plt.show()\n",
    "    \n",
    "    # plot the accuracy\n",
    "    plt.plot(np.squeeze(accs))\n",
    "    plt.ylabel('accuracy')\n",
    "    plt.xlabel('iterations (per tens)')\n",
    "    plt.title(\"Learning rate =\" + str(alpha))\n",
    "    plt.show()\n",
    "    \n",
    "    return parameters"
   ]
  },
  {
   "cell_type": "code",
   "execution_count": 28,
   "metadata": {},
   "outputs": [
    {
     "name": "stdout",
     "output_type": "stream",
     "text": [
      "Cost after iteration 2000 : 0.4887782934059728\n",
      "accuracy:  83.4375\n"
     ]
    },
    {
     "data": {
      "image/png": "[encoded data removed]",
      "text/plain": [
       "<Figure size 432x288 with 1 Axes>"
      ]
     },
     "metadata": {
      "needs_background": "light"
     },
     "output_type": "display_data"
    },
    {
     "data": {
      "image/png": "[encoded data removed]",
      "text/plain": [
       "<Figure size 432x288 with 1 Axes>"
      ]
     },
     "metadata": {
      "needs_background": "light"
     },
     "output_type": "display_data"
    }
   ],
   "source": [
    "parameters = gradient_descent(parameters, train_x_flatten[:, 0:8000], train_labels_one_hot[:, 0:8000], alpha=0.03, epochs = 2000, print_cost = False)"
   ]
  },
  {
   "cell_type": "code",
   "execution_count": 29,
   "metadata": {},
   "outputs": [
    {
     "name": "stdout",
     "output_type": "stream",
     "text": [
      "cost: 0.5157331909012712\n",
      "accuracy:  82.6\n"
     ]
    }
   ],
   "source": [
    "AL, caches = L_layer_Forward_Prop(test_x_flatten[:, 0:1000], test_labels_one_hot[:, 0:1000], parameters)\n",
    "cost = compute_cost(AL, test_labels_one_hot[:, 0:1000])\n",
    "acc = accuracy(AL, test_labels_one_hot[:, 0:1000])\n",
    "print(\"cost:\",cost)\n",
    "print(\"accuracy: \", acc)"
   ]
  },
  {
   "cell_type": "markdown",
   "metadata": {},
   "source": [
    "<h2>Conclusion:</h2><br/>\n",
    "<font size=2>This network suffers from the vanishing gradients problem at the earlier hidden layers. The more layers I add, the more the training gets prevented soon after it starts, regardless of the size of the training examples or the no of epochs run.<br/><br/>\n",
    "I changed the activation function from ReLu to leaky ReLu to the vanishing gradients but this did not change anyhting.</font>"
   ]
  },
  {
   "cell_type": "code",
   "execution_count": null,
   "metadata": {},
   "outputs": [],
   "source": []
  }
 ],
 "metadata": {
  "kernelspec": {
   "display_name": "Python 3",
   "language": "python",
   "name": "python3"
  },
  "language_info": {
   "codemirror_mode": {
    "name": "ipython",
    "version": 3
   },
   "file_extension": ".py",
   "mimetype": "text/x-python",
   "name": "python",
   "nbconvert_exporter": "python",
   "pygments_lexer": "ipython3",
   "version": "3.6.9"
  }
 },
 "nbformat": 4,
 "nbformat_minor": 2
}
